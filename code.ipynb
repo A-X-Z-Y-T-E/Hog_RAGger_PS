{
 "cells": [
  {
   "cell_type": "markdown",
   "metadata": {},
   "source": [
    "Visuallising Corpus.Json\n"
   ]
  },
  {
   "cell_type": "code",
   "execution_count": 1,
   "metadata": {},
   "outputs": [
    {
     "data": {
      "text/plain": [
       "{'title': \"200+ of the best deals from Amazon's Cyber Monday sale\",\n",
       " 'author': None,\n",
       " 'source': 'Mashable',\n",
       " 'published_at': '2023-11-27T08:45:59+00:00',\n",
       " 'category': 'entertainment',\n",
       " 'url': 'https://mashable.com/article/cyber-monday-deals-amazon-2023',\n",
       " 'body': 'Table of Contents Table of Contents Echo, Fire TV, and Kindle deals Apple deals TV deals Laptop deals Headphone and earbud deals Tablet deals Gaming deals Speaker deals Vacuum deals Kitchen deals Smart home deals Fitness deals Beauty tech deals Drone deals Camera deals Lego deals Gift card deals\\n\\nUPDATE: Nov. 27, 2023, 5:00 a.m. EST This post has been updated with all of the latest Cyber Monday deals available at Amazon.\\n\\nAmazon is dragging out the year\\'s biggest shopping holiday(s) into 11 days of deals.\\n\\nThe retail giant began its Black Friday sale in the early morning of Friday, Nov. 17 (a week ahead of schedule) and was on top of making the switch to Cyber Monday language in the wee hours of Saturday, Nov. 25. Official Cyber Monday mode, which is currently on through Monday, Nov. 27, includes both a ton of deals carried over from Black Friday plus some new ones.\\n\\nWe\\'re curating a running list of Amazon\\'s best Cyber Weekend deals, spotlighting some of our favorites and noting when good deals inevitably sell out. Read on for the full rundown, and check back often: We\\'re going to be updating this story incessantly as the sale continues, as well as our even bigger (if you can imagine) list of Cyber Monday deals across more retailers.\\n\\nNote: All newly added deals are marked with a ✨, while deals with a 🔥 have dropped to an all-time low price. Amazon\\'s invite-only deals for Prime members are marked with a 📨. Deals with a strikeout were either sold out or expired at the time of writing.\\n\\nEcho, Fire TV, and Kindle deals\\n\\nWhy we like it\\n\\nAn Echo Show is a subtle yet game-changing addition to any room — and for less than $40 with this rollover Black Friday to Cyber Monday deal, there\\'s little reason to not make your life easier. The smart screen responds to Alexa commands that are particularly handy when your hands are full, like asking for measurement conversions mid-cooking, checking the weather mid-rushing out the door, or turning off your smart lights with a sleeping kid in hand. Plus, it\\'s got a 5.5-inch screen and better sound than its predecessor, making it perfect for watching videos or video calling friends and family.\\n\\nMore Amazon device and service deals\\n\\nAmazon services\\n\\nAudible Premium Plus — $5.95/month $14.95/month for four months (save $9/month; new customers only; get an additional $20 Audible credit)\\n\\nEcho Buds\\n\\nEcho smart displays\\n\\nEcho smart speakers\\n\\nFire tablets\\n\\nFire TVs\\n\\nNote: All Fire TVs come with a free 6-month subscription to MGM+ (a $35.94 value).\\n\\nFire TV streaming devices\\n\\neero\\n\\nKindles\\n\\nMiscellaneous Amazon devices\\n\\nApple deals\\n\\nWhy we like it\\n\\nNow that the 64GB 9th generation iPad has been going in and out of stock (you might be able to find it on sale for $229.99), our new favorite iPad deal at Amazon is the 10th generation 64GB model for $349. Compared to the 9th gen, the 10th gen classic iPad has a slightly bigger screen that\\'s now also a Liquid Retina display (10.9 inches versus 10.2 inches), a faster A14 Bionic chip for smoother multitasking, and USB-C charging.\\n\\nMore Apple deals\\n\\nAirPods\\n\\nMacBook\\n\\nMac\\n\\niPad\\n\\nApple Watch\\n\\nTV deals\\n\\nWhy we like it\\n\\nThis 65-inch Fire TV from Amazon hit its lowest ever price this month, and we\\'re not mad about it. With a 66 percent five-star review rating, it\\'s got much to love: Including stunning 4K QLED resolution, adaptive brightness that adjusts to the lighting of your room, the ability to project famous art or personal pics on it when not streaming anything, and, of course, that quintessential Alexa voice control.\\n\\nMore TV deals\\n\\n43 to 55 inches\\n\\n65 inches\\n\\n75 to 85 inches\\n\\nLaptop deals\\n\\nWhy we like it\\n\\nMacBooks aside (which are all listed above in the Apple section), another stellar Cyber Monday laptop deal at Amazon is the lightweight Microsoft Surface Laptop Go 3 for $599.99. This 25% discount drops the 2023 version to the regular asking price of our favorite budget laptop, the older Surface Go 2. Compared to the Go 2, the Go 3\\'s Intel Core i5 processor is 12th gen versus the Go 2\\'s 11th gen, harnessing better speeds and solid power for most everyday work or school tasks. On the outside, the Go 3 is definitely giving MacBook Air — the main difference being that the Go 3\\'s screen is a touchscreen.\\n\\nMore laptop deals\\n\\nTraditional laptops\\n\\n2-in-1 laptops\\n\\nChromebooks\\n\\nGaming laptops\\n\\nHeadphone and earbud deals\\n\\nWhy we like it\\n\\nNarrowing down a headphones upgrade from so many on-sale options is less overwhelming when you\\'ve confirmed that you want to stick with a super premium, super reputable brand like Bose — but also that you want to stick to a budget. There\\'s only one pair of Bose over-ear headphones you can grab for just under $200, and that\\'s the QuietComfort 45s at a record-low price of $199. This classic pair secures top-of-the-line ANC, 20 hours of battery life, and all-day comfort for less than half of the AirPods Max\\'s sale price.\\n\\nMore headphone and earbud deals\\n\\nHeadphones\\n\\nEarbuds\\n\\nTablet deals\\n\\nGaming deals\\n\\nGaming headsets\\n\\nMashable Deals Want more hand-picked deals in your inbox? Sign up for Mashable\\'s daily Deals newsletter. Loading... Sign Me Up By signing up you agree to our Terms of Use and Privacy Policy Thanks for signing up!\\n\\nGaming mice\\n\\nGaming keyboards\\n\\nVR headsets\\n\\nMeta Quest 2 — $249 $299.99 (save $50.99) + free $50 Amazon credit with code META50 🔥\\n\\nSpeaker deals\\n\\nVacuum deals\\n\\nCordless vacuums\\n\\nRobot vacuums and vacuum/mop hybrids\\n\\nKitchen deals\\n\\nPizza ovens\\n\\nSparkling water makers\\n\\nToaster ovens\\n\\nSmart home deals\\n\\nNote: Echo devices are listed above under \"Amazon device and service deals.\"\\n\\nBlink\\n\\nChromecast\\n\\nGoogle Nest\\n\\nFitness deals\\n\\nSmartwatches and fitness trackers\\n\\nNote: Apple Watches are listed above under \"Apple deals.\"\\n\\nBeauty tech deals\\n\\nDrone deals\\n\\nCamera deals\\n\\nGoPro\\n\\nLego deals\\n\\nGift card deals'}"
      ]
     },
     "execution_count": 1,
     "metadata": {},
     "output_type": "execute_result"
    }
   ],
   "source": [
    "import json \n",
    "with open('data/corpus.json','r') as file:\n",
    "    corpus_data = json.load(file)\n",
    "corpus_data[0]\n"
   ]
  },
  {
   "cell_type": "markdown",
   "metadata": {},
   "source": [
    "Preprocess the data in body "
   ]
  },
  {
   "cell_type": "code",
   "execution_count": 2,
   "metadata": {},
   "outputs": [
    {
     "data": {
      "text/plain": [
       "{'title': \"200+ of the best deals from Amazon's Cyber Monday sale\",\n",
       " 'author': None,\n",
       " 'source': 'Mashable',\n",
       " 'published_at': '2023-11-27T08:45:59+00:00',\n",
       " 'category': 'entertainment',\n",
       " 'url': 'https://mashable.com/article/cyber-monday-deals-amazon-2023',\n",
       " 'body': 'Table of Contents Table of Contents Echo, Fire TV, and Kindle deals Apple deals TV deals Laptop deals Headphone and earbud deals Tablet deals Gaming deals Speaker deals Vacuum deals Kitchen deals Smart home deals Fitness deals Beauty tech deals Drone deals Camera deals Lego deals Gift card deals UPDATE Nov. 27, 2023, 500 a.m. EST This post has been updated with all of the latest Cyber Monday deals available at Amazon. Amazon is dragging out the year\\'s biggest shopping holidays into 11 days of deals. The retail giant began its Black Friday sale in the early morning of Friday, Nov. 17 a week ahead of schedule and was on top of making the switch to Cyber Monday language in the wee hours of Saturday, Nov. 25. Official Cyber Monday mode, which is currently on through Monday, Nov. 27, includes both a ton of deals carried over from Black Friday plus some new ones. We\\'re curating a running list of Amazon\\'s best Cyber Weekend deals, spotlighting some of our favorites and noting when good deals inevitably sell out. Read on for the full rundown, and check back often We\\'re going to be updating this story incessantly as the sale continues, as well as our even bigger if you can imagine list of Cyber Monday deals across more retailers. Note All newly added deals are marked with a , while deals with a  have dropped to an alltime low price. Amazon\\'s inviteonly deals for Prime members are marked with a . Deals with a strikeout were either sold out or expired at the time of writing. Echo, Fire TV, and Kindle deals Why we like it An Echo Show is a subtle yet gamechanging addition to any room  and for less than 40 with this rollover Black Friday to Cyber Monday deal, there\\'s little reason to not make your life easier. The smart screen responds to Alexa commands that are particularly handy when your hands are full, like asking for measurement conversions midcooking, checking the weather midrushing out the door, or turning off your smart lights with a sleeping kid in hand. Plus, it\\'s got a 5.5inch screen and better sound than its predecessor, making it perfect for watching videos or video calling friends and family. More Amazon device and service deals Amazon services Audible Premium Plus  5.95month 14.95month for four months save 9month new customers only get an additional 20 Audible credit Echo Buds Echo smart displays Echo smart speakers Fire tablets Fire TVs Note All Fire TVs come with a free 6month subscription to MGM a 35.94 value. Fire TV streaming devices eero Kindles Miscellaneous Amazon devices Apple deals Why we like it Now that the 64GB 9th generation iPad has been going in and out of stock you might be able to find it on sale for 229.99, our new favorite iPad deal at Amazon is the 10th generation 64GB model for 349. Compared to the 9th gen, the 10th gen classic iPad has a slightly bigger screen that\\'s now also a Liquid Retina display 10.9 inches versus 10.2 inches, a faster A14 Bionic chip for smoother multitasking, and USBC charging. More Apple deals AirPods MacBook Mac iPad Apple Watch TV deals Why we like it This 65inch Fire TV from Amazon hit its lowest ever price this month, and we\\'re not mad about it. With a 66 percent fivestar review rating, it\\'s got much to love Including stunning 4K QLED resolution, adaptive brightness that adjusts to the lighting of your room, the ability to project famous art or personal pics on it when not streaming anything, and, of course, that quintessential Alexa voice control. More TV deals 43 to 55 inches 65 inches 75 to 85 inches Laptop deals Why we like it MacBooks aside which are all listed above in the Apple section, another stellar Cyber Monday laptop deal at Amazon is the lightweight Microsoft Surface Laptop Go 3 for 599.99. This 25 discount drops the 2023 version to the regular asking price of our favorite budget laptop, the older Surface Go 2. Compared to the Go 2, the Go 3\\'s Intel Core i5 processor is 12th gen versus the Go 2\\'s 11th gen, harnessing better speeds and solid power for most everyday work or school tasks. On the outside, the Go 3 is definitely giving MacBook Air  the main difference being that the Go 3\\'s screen is a touchscreen. More laptop deals Traditional laptops 2in1 laptops Chromebooks Gaming laptops Headphone and earbud deals Why we like it Narrowing down a headphones upgrade from so many onsale options is less overwhelming when you\\'ve confirmed that you want to stick with a super premium, super reputable brand like Bose  but also that you want to stick to a budget. There\\'s only one pair of Bose overear headphones you can grab for just under 200, and that\\'s the QuietComfort 45s at a recordlow price of 199. This classic pair secures topoftheline ANC, 20 hours of battery life, and allday comfort for less than half of the AirPods Max\\'s sale price. More headphone and earbud deals Headphones Earbuds Tablet deals Gaming deals Gaming headsets Mashable Deals Want more handpicked deals in your inbox? Sign up for Mashable\\'s daily Deals newsletter. Loading... Sign Me Up By signing up you agree to our Terms of Use and Privacy Policy Thanks for signing up! Gaming mice Gaming keyboards VR headsets Meta Quest 2  249 299.99 save 50.99  free 50 Amazon credit with code META50  Speaker deals Vacuum deals Cordless vacuums Robot vacuums and vacuummop hybrids Kitchen deals Pizza ovens Sparkling water makers Toaster ovens Smart home deals Note Echo devices are listed above under \"Amazon device and service deals.\" Blink Chromecast Google Nest Fitness deals Smartwatches and fitness trackers Note Apple Watches are listed above under \"Apple deals.\" Beauty tech deals Drone deals Camera deals GoPro Lego deals Gift card deals'}"
      ]
     },
     "execution_count": 2,
     "metadata": {},
     "output_type": "execute_result"
    }
   ],
   "source": [
    "import re\n",
    "def preprocess_text(text: str) -> str:\n",
    "    # Remove unwanted characters and extra spaces\n",
    "    text = re.sub(r'\\s+', ' ', text)  # Replace multiple spaces with a single space\n",
    "    text = re.sub(r'[\\n\\r]+', ' ', text)  # Replace newlines with a space\n",
    "    text = re.sub(r'[^a-zA-Z0-9\\s.,!?\\'\"]', '', text)  # Remove special characters\n",
    "    text = text.strip()  # Remove leading/trailing whitespace\n",
    "    return text\n",
    "for i in range(len(corpus_data)):\n",
    "    corpus_data[i]['body'] = preprocess_text(corpus_data[i]['body'])\n",
    "corpus_data[0]"
   ]
  },
  {
   "cell_type": "markdown",
   "metadata": {},
   "source": [
    "Importing RecursiveCharacterTextSplitter to split data into chunks "
   ]
  },
  {
   "cell_type": "code",
   "execution_count": 3,
   "metadata": {},
   "outputs": [],
   "source": [
    "import textwrap\n",
    "text = corpus_data[0]['body']\n",
    "from langchain.text_splitter import RecursiveCharacterTextSplitter\n",
    "\n",
    "def print_wrapped_text(text: str, width: int = 70) -> None:\n",
    "    wrapped_text = textwrap.fill(text, width)\n",
    "    print(wrapped_text)\n",
    "\n",
    "\n",
    "text_splitter = RecursiveCharacterTextSplitter(chunk_size=1000,chunk_overlap=200)\n",
    "\n",
    "chunks = text_splitter.split_text(text)\n"
   ]
  },
  {
   "cell_type": "markdown",
   "metadata": {},
   "source": [
    "Writing function to split corpus into chunks "
   ]
  },
  {
   "cell_type": "code",
   "execution_count": 4,
   "metadata": {},
   "outputs": [
    {
     "name": "stderr",
     "output_type": "stream",
     "text": [
      "100%|██████████| 609/609 [00:01<00:00, 555.21it/s]\n"
     ]
    },
    {
     "data": {
      "text/html": [
       "<div>\n",
       "<style scoped>\n",
       "    .dataframe tbody tr th:only-of-type {\n",
       "        vertical-align: middle;\n",
       "    }\n",
       "\n",
       "    .dataframe tbody tr th {\n",
       "        vertical-align: top;\n",
       "    }\n",
       "\n",
       "    .dataframe thead th {\n",
       "        text-align: right;\n",
       "    }\n",
       "</style>\n",
       "<table border=\"1\" class=\"dataframe\">\n",
       "  <thead>\n",
       "    <tr style=\"text-align: right;\">\n",
       "      <th></th>\n",
       "      <th>index</th>\n",
       "      <th>chunk_character_size</th>\n",
       "      <th>chunk_word_size</th>\n",
       "      <th>chunk_token_size</th>\n",
       "    </tr>\n",
       "  </thead>\n",
       "  <tbody>\n",
       "    <tr>\n",
       "      <th>count</th>\n",
       "      <td>7864.00</td>\n",
       "      <td>7864.00</td>\n",
       "      <td>7864.00</td>\n",
       "      <td>7864.00</td>\n",
       "    </tr>\n",
       "    <tr>\n",
       "      <th>mean</th>\n",
       "      <td>293.40</td>\n",
       "      <td>966.45</td>\n",
       "      <td>165.46</td>\n",
       "      <td>241.61</td>\n",
       "    </tr>\n",
       "    <tr>\n",
       "      <th>std</th>\n",
       "      <td>178.63</td>\n",
       "      <td>120.45</td>\n",
       "      <td>23.01</td>\n",
       "      <td>30.11</td>\n",
       "    </tr>\n",
       "    <tr>\n",
       "      <th>min</th>\n",
       "      <td>0.00</td>\n",
       "      <td>198.00</td>\n",
       "      <td>26.00</td>\n",
       "      <td>49.50</td>\n",
       "    </tr>\n",
       "    <tr>\n",
       "      <th>25%</th>\n",
       "      <td>136.00</td>\n",
       "      <td>994.00</td>\n",
       "      <td>161.00</td>\n",
       "      <td>248.50</td>\n",
       "    </tr>\n",
       "    <tr>\n",
       "      <th>50%</th>\n",
       "      <td>277.00</td>\n",
       "      <td>996.00</td>\n",
       "      <td>170.00</td>\n",
       "      <td>249.00</td>\n",
       "    </tr>\n",
       "    <tr>\n",
       "      <th>75%</th>\n",
       "      <td>451.00</td>\n",
       "      <td>998.00</td>\n",
       "      <td>177.00</td>\n",
       "      <td>249.50</td>\n",
       "    </tr>\n",
       "    <tr>\n",
       "      <th>max</th>\n",
       "      <td>608.00</td>\n",
       "      <td>1000.00</td>\n",
       "      <td>224.00</td>\n",
       "      <td>250.00</td>\n",
       "    </tr>\n",
       "  </tbody>\n",
       "</table>\n",
       "</div>"
      ],
      "text/plain": [
       "         index  chunk_character_size  chunk_word_size  chunk_token_size\n",
       "count  7864.00               7864.00          7864.00           7864.00\n",
       "mean    293.40                966.45           165.46            241.61\n",
       "std     178.63                120.45            23.01             30.11\n",
       "min       0.00                198.00            26.00             49.50\n",
       "25%     136.00                994.00           161.00            248.50\n",
       "50%     277.00                996.00           170.00            249.00\n",
       "75%     451.00                998.00           177.00            249.50\n",
       "max     608.00               1000.00           224.00            250.00"
      ]
     },
     "execution_count": 4,
     "metadata": {},
     "output_type": "execute_result"
    }
   ],
   "source": [
    "from tqdm import tqdm\n",
    "import pandas as pd\n",
    "\n",
    "def chunk_corpus(corpus_data: list) -> list:\n",
    "    chunked_data = []\n",
    "    for index, article in tqdm(enumerate(corpus_data), total=len(corpus_data)):\n",
    "        # Preprocess the body of the article\n",
    "        body = article.get(\"body\", \"\")\n",
    "        preprocessed_body = preprocess_text(body)\n",
    "\n",
    "        # Split the preprocessed body into chunks\n",
    "        chunks = text_splitter.split_text(preprocessed_body)\n",
    "        \n",
    "        # Create a new dictionary for each chunk\n",
    "        for chunk in chunks:\n",
    "            chunked_data.append({\n",
    "                \"index\": index,  # Original index in corpus_data\n",
    "                \"title\": article.get(\"title\", \"\"),\n",
    "                \"author\": article.get(\"author\", \"\"),\n",
    "                \"source\": article.get(\"source\", \"\"),\n",
    "                \"published_at\": article.get(\"published_at\", \"\"),\n",
    "                \"category\": article.get(\"category\", \"\"),\n",
    "                \"url\": article.get(\"url\", \"\"),\n",
    "                \"body_chunk\": chunk,\n",
    "                \"chunk_character_size\": len(chunk),\n",
    "                \"chunk_word_size\": len(chunk.split(\" \")),\n",
    "                \"chunk_token_size\":len(chunk)/4  # Token size is approximately 4 ~ one character\n",
    "            })\n",
    "    return chunked_data\n",
    "\n",
    "chunked_data = chunk_corpus(corpus_data)\n",
    "chunked_data_df = pd.DataFrame(chunked_data)\n",
    "chunked_data_df.describe().round(2)"
   ]
  },
  {
   "cell_type": "markdown",
   "metadata": {},
   "source": [
    "Checking our chunks using random samples"
   ]
  },
  {
   "cell_type": "code",
   "execution_count": 5,
   "metadata": {},
   "outputs": [
    {
     "data": {
      "text/plain": [
       "[{'index': 102,\n",
       "  'title': 'He’s Hockey’s Brightest Young Star. This Is What Makes His Shot So Special.',\n",
       "  'author': 'The New York Times',\n",
       "  'source': 'The New York Times',\n",
       "  'published_at': '2023-11-17T21:47:19+00:00',\n",
       "  'category': 'sports',\n",
       "  'url': 'https://theathletic.com/5028179/2023/11/16/blackhawks-connor-bedard-shot/',\n",
       "  'body_chunk': 'putting in on the other side of the puck. Even in practice, weve talked to him about maybe tracking harder and attacking pucks on the forecheck and showing him a couple clips, Richardson said. Ten, 12 games in, hes really figuring things out and realizes why sit back and let things come to him? Go get it. None of this is surprising to anyone involved. Bedard doesnt show it if he impresses himself. And as grateful as the Blackhawks are to have drafted Bedard, this is what they expected. This is why teams lined up to take losses last season. Its not the NHL that he was playing in the last few years, Davidson said, but the level of performance and how he could control a game and dominate a game in junior it indicated he was going to be able to do that at some point in the NHL. You just never how quickly. Its a big adjustment, especially when youre playing against men and being focused on by the other team every single night. Im excited for him, but I dont necessarily feel like its a huge',\n",
       "  'chunk_character_size': 999,\n",
       "  'chunk_word_size': 189,\n",
       "  'chunk_token_size': 249.75},\n",
       " {'index': 602,\n",
       "  'title': 'The world came tantalizingly close to a deal to phase out fossil fuels',\n",
       "  'author': 'Justine Calma',\n",
       "  'source': 'The Verge',\n",
       "  'published_at': '2023-12-13T07:27:19+00:00',\n",
       "  'category': 'technology',\n",
       "  'url': 'https://www.theverge.com/2023/12/13/23993937/dubai-un-climate-change-conference-cop28-united-nations-fossil-fuels',\n",
       "  'body_chunk': 'to an investigation by the BBC and the Centre for Climate Reporting. Even so, there were hopeful signs last week when draft documents coming out of the conference included options to incorporate language that called on countries to phase out fossil fuel use there was also an option not to include such a clause. Then the Organization of the Petroleum Exporting Countries OPEC sent a letter to its member states pressuring them to proactively reject any text or formula that targets energy i.e. fossil fuels rather than emissions. Following the letter, language that had previously called on countries to phase out fossil fuels vanished from subsequent draft texts. Backlash was swift. This obsequious draft reads as if OPEC dictated it word for word, former US vice president Al Gore posted on X on Monday. COP28 is now on the verge of complete failure. That brings us back to the language coming out of COP28 to phase down unabated coal. Using the word unabated whether for coal, oil, or gas',\n",
       "  'chunk_character_size': 993,\n",
       "  'chunk_word_size': 169,\n",
       "  'chunk_token_size': 248.25}]"
      ]
     },
     "execution_count": 5,
     "metadata": {},
     "output_type": "execute_result"
    }
   ],
   "source": [
    "import random \n",
    "random.sample(chunked_data, 2)"
   ]
  },
  {
   "cell_type": "markdown",
   "metadata": {},
   "source": [
    "Embedding body chunks "
   ]
  },
  {
   "cell_type": "code",
   "execution_count": 6,
   "metadata": {},
   "outputs": [
    {
     "name": "stderr",
     "output_type": "stream",
     "text": [
      "c:\\Users\\siddh\\OneDrive\\Desktop\\Hog_RAGger\\myenv\\Lib\\site-packages\\sentence_transformers\\cross_encoder\\CrossEncoder.py:13: TqdmWarning: IProgress not found. Please update jupyter and ipywidgets. See https://ipywidgets.readthedocs.io/en/stable/user_install.html\n",
      "  from tqdm.autonotebook import tqdm, trange\n"
     ]
    }
   ],
   "source": [
    "from sentence_transformers import SentenceTransformer"
   ]
  },
  {
   "cell_type": "markdown",
   "metadata": {},
   "source": [
    "using all-mpnet-vase-v2 , will use another small one afterwards "
   ]
  },
  {
   "cell_type": "markdown",
   "metadata": {},
   "source": [
    "using all-MiniLM-L12-V2 as all-mpnet-vase-v2 would have been too big "
   ]
  },
  {
   "cell_type": "code",
   "execution_count": 24,
   "metadata": {},
   "outputs": [
    {
     "name": "stderr",
     "output_type": "stream",
     "text": [
      "c:\\Users\\siddh\\OneDrive\\Desktop\\Hog_RAGger\\myenv\\Lib\\site-packages\\huggingface_hub\\file_download.py:147: UserWarning: `huggingface_hub` cache-system uses symlinks by default to efficiently store duplicated files but your machine does not support them in C:\\Users\\siddh\\.cache\\huggingface\\hub\\models--sentence-transformers--all-MiniLM-L12-v2. Caching files will still work but in a degraded version that might require more space on your disk. This warning can be disabled by setting the `HF_HUB_DISABLE_SYMLINKS_WARNING` environment variable. For more details, see https://huggingface.co/docs/huggingface_hub/how-to-cache#limitations.\n",
      "To support symlinks on Windows, you either need to activate Developer Mode or to run Python as an administrator. In order to activate developer mode, see this article: https://docs.microsoft.com/en-us/windows/apps/get-started/enable-your-device-for-development\n",
      "  warnings.warn(message)\n"
     ]
    }
   ],
   "source": [
    "embedding_model = SentenceTransformer('all-MiniLM-L12-v2')\n",
    "def embed_chunks(model, chunks: list) -> list:\n",
    "    for chunk in tqdm(chunks, total=len(chunks)):\n",
    "        chunk[\"embedding\"] = model.encode(chunk[\"body_chunk\"], batch_size=16,convert_to_tensor=True)\n",
    "    return chunks"
   ]
  },
  {
   "cell_type": "code",
   "execution_count": 25,
   "metadata": {},
   "outputs": [
    {
     "name": "stderr",
     "output_type": "stream",
     "text": [
      "  0%|          | 0/7864 [00:00<?, ?it/s]c:\\Users\\siddh\\OneDrive\\Desktop\\Hog_RAGger\\myenv\\Lib\\site-packages\\transformers\\models\\bert\\modeling_bert.py:440: UserWarning: 1Torch was not compiled with flash attention. (Triggered internally at C:\\actions-runner\\_work\\pytorch\\pytorch\\builder\\windows\\pytorch\\aten\\src\\ATen\\native\\transformers\\cuda\\sdp_utils.cpp:555.)\n",
      "  attn_output = torch.nn.functional.scaled_dot_product_attention(\n",
      "100%|██████████| 7864/7864 [01:25<00:00, 91.97it/s] \n"
     ]
    }
   ],
   "source": [
    "embedding_model.to('cuda')\n",
    "embedded_chunk_data = embed_chunks(embedding_model, chunked_data)\n"
   ]
  },
  {
   "cell_type": "markdown",
   "metadata": {},
   "source": [
    "Inspecting embeddings "
   ]
  },
  {
   "cell_type": "code",
   "execution_count": 26,
   "metadata": {},
   "outputs": [
    {
     "data": {
      "text/plain": [
       "tensor([-2.0043e-02, -6.0836e-02,  3.9368e-02,  1.4167e-02,  6.0959e-02,\n",
       "        -5.5071e-03,  4.9471e-02, -3.7021e-02,  7.6204e-03, -2.4665e-02,\n",
       "         3.2560e-02,  3.7383e-02, -3.0699e-03,  5.8343e-02,  4.5017e-02,\n",
       "        -3.9857e-02,  3.7575e-02, -1.3631e-01, -2.4427e-02, -3.4500e-03,\n",
       "        -3.0166e-02,  2.7162e-02, -2.4404e-02, -2.1133e-02,  1.4097e-02,\n",
       "         1.4758e-02, -5.8497e-02, -4.9087e-02, -9.9336e-02, -4.1075e-02,\n",
       "        -1.1829e-02,  8.5526e-03,  5.4564e-02,  5.7569e-02, -3.4209e-02,\n",
       "        -7.0601e-02,  7.2215e-02, -4.4971e-02, -1.4822e-02, -3.7274e-02,\n",
       "         6.4015e-03, -2.0498e-02, -7.8796e-03,  4.0990e-02,  7.2523e-02,\n",
       "         8.1320e-02,  2.0978e-02, -7.2389e-03,  3.5576e-02, -5.2985e-03,\n",
       "         5.1509e-02,  1.8238e-02,  1.4572e-02, -1.4508e-02,  3.3997e-03,\n",
       "         2.0619e-03, -5.9862e-02, -6.0601e-03,  3.9673e-02, -1.1435e-01,\n",
       "         8.6996e-02, -7.4820e-02,  4.7117e-02,  4.6229e-02, -9.7422e-02,\n",
       "        -1.8035e-02, -6.2589e-02,  7.7754e-03, -5.8140e-02, -7.0898e-02,\n",
       "        -3.5159e-04, -6.2812e-02,  4.0727e-02,  8.3787e-02,  3.9388e-02,\n",
       "         5.1071e-02,  1.1580e-01, -1.0483e-01,  3.5119e-02, -9.8846e-03,\n",
       "        -5.3046e-02, -3.0776e-02,  1.7196e-02, -5.0733e-03, -1.3311e-02,\n",
       "         4.7469e-02,  4.5555e-02, -6.7065e-02, -2.0202e-02,  1.9276e-02,\n",
       "        -3.2657e-02, -4.7612e-02,  1.4199e-02, -6.8353e-03, -1.6515e-01,\n",
       "         2.6685e-03, -1.7369e-02, -8.1855e-02,  4.3845e-02,  5.2843e-02,\n",
       "         3.4774e-02,  6.9821e-02,  7.8123e-02, -1.0644e-01, -7.5229e-03,\n",
       "        -1.2061e-01, -1.5197e-02,  3.3132e-02,  1.6438e-03, -9.7243e-02,\n",
       "        -3.7384e-02, -5.9905e-02, -2.9479e-02, -1.2124e-01,  5.6590e-02,\n",
       "        -3.2450e-02,  4.8317e-02,  1.7462e-02,  2.9243e-02,  6.1965e-04,\n",
       "         4.9119e-02,  4.1884e-02,  5.5166e-02, -6.5442e-03, -5.8202e-02,\n",
       "        -1.3477e-02, -8.7619e-03,  9.2054e-03, -2.6154e-03,  3.5825e-02,\n",
       "         1.9232e-02,  4.1470e-02,  4.0350e-02, -5.6709e-02,  3.9960e-02,\n",
       "         5.9689e-02,  8.9166e-03,  1.3642e-02,  3.1491e-02,  6.7887e-02,\n",
       "        -6.4576e-02,  9.4289e-03, -9.0830e-03,  2.3568e-02, -9.2858e-02,\n",
       "         4.2615e-02, -3.5563e-02, -3.6805e-02, -2.3426e-02, -1.2243e-02,\n",
       "         7.1300e-02,  8.2751e-03,  6.2341e-03, -5.8269e-02, -3.2425e-02,\n",
       "        -5.9416e-02,  7.4442e-02, -1.0465e-02, -8.4516e-02,  2.4081e-02,\n",
       "         2.0585e-02, -4.5810e-03, -4.6179e-02,  2.1167e-02, -1.0355e-01,\n",
       "        -3.3304e-02, -1.0699e-03, -5.5436e-03, -8.3760e-02, -6.4419e-02,\n",
       "        -4.9178e-02, -1.0998e-02,  5.5019e-02, -3.8595e-02,  3.3738e-02,\n",
       "         8.0590e-02,  4.8151e-02,  5.0317e-02, -5.9707e-02, -4.5673e-02,\n",
       "         5.4051e-02, -1.2173e-01, -3.9926e-02,  9.7354e-03,  1.9847e-02,\n",
       "        -1.1827e-01,  2.2459e-02, -2.3540e-02,  9.0544e-02, -2.5987e-02,\n",
       "         2.2532e-02, -2.5471e-02, -3.6277e-02,  1.0087e-01,  7.9170e-02,\n",
       "         2.7979e-02, -5.9872e-02,  3.1116e-02,  3.7313e-02,  3.3112e-02,\n",
       "         4.6572e-03, -7.0898e-02, -1.6448e-02,  4.9310e-02,  5.3755e-02,\n",
       "        -1.1637e-02,  3.3174e-04,  2.7752e-02,  2.4613e-02, -7.7971e-03,\n",
       "         5.1155e-02,  8.5722e-02,  4.8232e-02, -2.0804e-02,  1.5881e-02,\n",
       "        -4.0811e-02,  2.2624e-02, -5.1704e-02, -3.0018e-02,  1.4921e-02,\n",
       "        -5.0444e-02, -1.7739e-02,  1.2433e-01,  9.0224e-34,  4.0392e-02,\n",
       "        -1.4196e-02, -1.1248e-01,  4.8287e-02,  7.7573e-02, -3.9734e-02,\n",
       "        -7.0066e-03,  4.7675e-02,  1.3337e-02, -2.4740e-02, -3.4560e-02,\n",
       "         1.7865e-02, -2.0078e-02, -2.7325e-02, -5.8596e-03, -9.0297e-03,\n",
       "         8.7966e-03,  2.6387e-02,  1.0281e-01,  2.9316e-02,  8.0403e-02,\n",
       "         4.3538e-02, -7.6532e-02, -2.5689e-02,  3.6680e-02, -1.2492e-02,\n",
       "         4.3031e-02, -2.6817e-03, -4.5410e-02, -2.1845e-02,  1.0605e-02,\n",
       "        -1.8205e-02,  9.6171e-03,  1.2489e-02, -1.3538e-02,  3.9671e-03,\n",
       "        -2.1305e-02,  1.6381e-02,  4.3070e-02, -4.7971e-02,  7.7526e-02,\n",
       "         3.6920e-02, -6.4749e-03,  9.3042e-03,  1.9333e-02,  2.4918e-02,\n",
       "        -2.3762e-02,  1.2729e-02,  6.2634e-02, -3.5027e-02, -6.1952e-02,\n",
       "        -9.5591e-03,  2.3042e-02,  2.9441e-02,  1.7498e-02,  7.3564e-02,\n",
       "        -5.2928e-02, -2.4174e-02,  5.1482e-03,  3.8695e-02, -4.1169e-02,\n",
       "        -1.1851e-01,  3.9682e-02,  3.6970e-02, -2.8711e-02,  1.3772e-02,\n",
       "         5.8526e-02, -1.6297e-02, -3.0848e-02, -2.6848e-02, -8.4752e-02,\n",
       "         2.4151e-02,  1.7570e-02, -5.5479e-02, -8.9435e-02,  9.6736e-03,\n",
       "        -2.5452e-02,  3.2397e-03,  4.6745e-02,  8.0566e-02,  5.5276e-02,\n",
       "         7.3826e-02, -4.9736e-03,  3.9620e-02,  4.9044e-02,  7.8445e-02,\n",
       "        -8.8322e-02, -3.2442e-02, -8.2603e-02,  2.2714e-02, -8.8604e-02,\n",
       "         1.2575e-02,  2.8218e-02,  9.5126e-02,  8.1425e-03,  6.4342e-32,\n",
       "         1.0297e-01, -1.7190e-02, -2.1829e-02,  1.3335e-02,  7.8443e-02,\n",
       "        -1.1238e-01,  2.9720e-02,  4.5143e-03,  5.7163e-02, -1.9620e-02,\n",
       "         1.0502e-01, -1.4351e-01, -8.1959e-02,  9.3573e-02,  1.0078e-01,\n",
       "         2.2658e-02, -1.3462e-02,  3.9797e-02,  4.0797e-02, -1.0510e-02,\n",
       "         5.7556e-02,  3.0307e-02,  3.6158e-02,  8.5379e-03,  2.2846e-02,\n",
       "        -3.2814e-02, -9.0957e-02,  2.8384e-02,  7.2397e-02,  5.9824e-02,\n",
       "         3.2627e-02,  7.8276e-03,  1.7741e-02, -6.2736e-02,  1.5000e-02,\n",
       "        -8.1130e-02, -8.3816e-02, -3.0179e-02,  1.1399e-02,  2.9681e-02,\n",
       "         4.5836e-02, -1.0401e-01, -6.0223e-02, -1.3370e-02,  3.2696e-02,\n",
       "        -7.7240e-02, -7.6640e-02, -3.8234e-02, -2.2278e-02, -4.7997e-02,\n",
       "        -3.2494e-02, -8.5854e-02,  5.3697e-03,  1.0104e-02,  7.4748e-02,\n",
       "         3.0353e-02,  9.8808e-03, -7.8834e-03,  2.9463e-03, -3.1846e-02,\n",
       "         2.3463e-02, -6.6129e-02, -8.1925e-02,  6.1112e-02], device='cuda:0')"
      ]
     },
     "execution_count": 26,
     "metadata": {},
     "output_type": "execute_result"
    }
   ],
   "source": [
    "embedded_chunk_data[0][\"embedding\"]"
   ]
  },
  {
   "cell_type": "code",
   "execution_count": 27,
   "metadata": {},
   "outputs": [],
   "source": [
    "embedded_chunk_data_df = pd.DataFrame(embedded_chunk_data)\n"
   ]
  },
  {
   "cell_type": "code",
   "execution_count": 28,
   "metadata": {},
   "outputs": [
    {
     "data": {
      "text/plain": [
       "torch.Size([384])"
      ]
     },
     "execution_count": 28,
     "metadata": {},
     "output_type": "execute_result"
    }
   ],
   "source": [
    "embedded_chunk_data_df[\"embedding\"].iloc[0].shape"
   ]
  },
  {
   "cell_type": "markdown",
   "metadata": {},
   "source": [
    "Saving embeddings for future use "
   ]
  },
  {
   "cell_type": "code",
   "execution_count": 30,
   "metadata": {},
   "outputs": [],
   "source": [
    "embedded_chunk_data_save_path = \"data/embedded_chunk_data_all_Mini.csv\"\n",
    "#embedded_chunk_data_df.to_csv(embedded_chunk_data_save_path,index=False)"
   ]
  },
  {
   "cell_type": "code",
   "execution_count": null,
   "metadata": {},
   "outputs": [],
   "source": []
  }
 ],
 "metadata": {
  "kernelspec": {
   "display_name": "myenv",
   "language": "python",
   "name": "python3"
  },
  "language_info": {
   "codemirror_mode": {
    "name": "ipython",
    "version": 3
   },
   "file_extension": ".py",
   "mimetype": "text/x-python",
   "name": "python",
   "nbconvert_exporter": "python",
   "pygments_lexer": "ipython3",
   "version": "3.12.3"
  }
 },
 "nbformat": 4,
 "nbformat_minor": 2
}
